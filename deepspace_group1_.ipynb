{
  "nbformat": 4,
  "nbformat_minor": 0,
  "metadata": {
    "colab": {
      "provenance": [],
      "authorship_tag": "ABX9TyOERmuI0GmBV5dslV0pZoP3",
      "include_colab_link": true
    },
    "kernelspec": {
      "name": "python3",
      "display_name": "Python 3"
    },
    "language_info": {
      "name": "python"
    }
  },
  "cells": [
    {
      "cell_type": "markdown",
      "metadata": {
        "id": "view-in-github",
        "colab_type": "text"
      },
      "source": [
        "<a href=\"https://colab.research.google.com/github/joelleyarro03/nasa-ai-conceptual-willianeyarro/blob/main/deepspace_group1_.ipynb\" target=\"_parent\"><img src=\"https://colab.research.google.com/assets/colab-badge.svg\" alt=\"Open In Colab\"/></a>"
      ]
    },
    {
      "cell_type": "code",
      "execution_count": 2,
      "metadata": {
        "id": "DEvTAL9ZUdh6",
        "outputId": "5530f287-f19e-414b-cdf7-718e16def5df",
        "colab": {
          "base_uri": "https://localhost:8080/"
        }
      },
      "outputs": [
        {
          "output_type": "stream",
          "name": "stdout",
          "text": [
            "Generating 50 data packets starting from 2025-07-01 00:00:00...\n",
            "\n",
            "--- Simulated Probe Data ---\n",
            "            timestamp                      type  priority  size_kb  \\\n",
            "0 2025-07-01 02:29:02         Housekeeping Data         4      111   \n",
            "1 2025-07-01 03:44:20         Housekeeping Data         4       70   \n",
            "2 2025-07-01 05:28:16  Science Data (Telemetry)         2      443   \n",
            "3 2025-07-01 07:12:04      Science Data (Image)         2     4630   \n",
            "4 2025-07-01 10:00:06         Housekeeping Data         4       91   \n",
            "5 2025-07-01 12:37:26           Emergency Alert         1       96   \n",
            "6 2025-07-01 13:09:42           Emergency Alert         1       41   \n",
            "7 2025-07-01 15:17:23  Science Data (Telemetry)         2      369   \n",
            "8 2025-07-02 03:55:23         Diagnostic Report         3       52   \n",
            "9 2025-07-02 04:59:16         Housekeeping Data         4      141   \n",
            "\n",
            "                                     content_summary  \n",
            "0                  Simulated Housekeeping Data data.  \n",
            "1                  Simulated Housekeeping Data data.  \n",
            "2           Simulated Science Data (Telemetry) data.  \n",
            "3  Simulated Image Data: [[121, 199, 248, 203, 17...  \n",
            "4                  Simulated Housekeeping Data data.  \n",
            "5  Simulated Emergency Alert data. Critical syste...  \n",
            "6  Simulated Emergency Alert data. Critical syste...  \n",
            "7           Simulated Science Data (Telemetry) data.  \n",
            "8                  Simulated Diagnostic Report data.  \n",
            "9                  Simulated Housekeeping Data data.  \n",
            "\n",
            "--- Data Packet Type Distribution ---\n",
            "type\n",
            "Diagnostic Report           12\n",
            "Science Data (Image)        11\n",
            "Emergency Alert              9\n",
            "Housekeeping Data            7\n",
            "System Log                   6\n",
            "Science Data (Telemetry)     5\n",
            "Name: count, dtype: int64\n",
            "\n",
            "--- Priority Distribution ---\n",
            "priority\n",
            "1     9\n",
            "2    16\n",
            "3    18\n",
            "4     7\n",
            "Name: count, dtype: int64\n",
            "\n",
            "--- Average Data Size by Type (KB) ---\n",
            "type\n",
            "Diagnostic Report             82.33\n",
            "Emergency Alert               71.89\n",
            "Housekeeping Data            104.57\n",
            "Science Data (Image)        3187.64\n",
            "Science Data (Telemetry)     400.40\n",
            "System Log                    88.67\n",
            "Name: size_kb, dtype: float64\n",
            "\n",
            "--- Example of a high-priority packet ---\n",
            "timestamp                                        2025-07-01 12:37:26\n",
            "type                                                 Emergency Alert\n",
            "priority                                                           1\n",
            "size_kb                                                           96\n",
            "content_summary    Simulated Emergency Alert data. Critical syste...\n",
            "Name: 5, dtype: object\n"
          ]
        }
      ],
      "source": [
        "# Deep Space Probe Data Simulation\n",
        "\n",
        "# 1. Import necessary libraries\n",
        "import numpy as np\n",
        "import pandas as pd\n",
        "from datetime import datetime, timedelta\n",
        "import random\n",
        "\n",
        "# 2. Define Data Packet Types and Priorities\n",
        "#    We'll assign numerical priorities where lower numbers indicate higher priority.\n",
        "#    Example: Emergency = 1, Science = 2, Log = 3\n",
        "\n",
        "data_types = {\n",
        "    \"Emergency Alert\": {\"priority\": 1, \"description\": \"Critical, immediate action required.\"},\n",
        "    \"Science Data (Image)\": {\"priority\": 2, \"description\": \"High-value scientific observations.\"},\n",
        "    \"Science Data (Telemetry)\": {\"priority\": 2, \"description\": \"Continuous sensor readings.\"},\n",
        "    \"System Log\": {\"priority\": 3, \"description\": \"Routine operational logs.\"},\n",
        "    \"Diagnostic Report\": {\"priority\": 3, \"description\": \"Detailed system health information.\"},\n",
        "    \"Housekeeping Data\": {\"priority\": 4, \"description\": \"Low-priority, routine probe status.\"}\n",
        "}\n",
        "\n",
        "# 3. Function to Generate a Single Data Packet\n",
        "def generate_data_packet(start_time):\n",
        "    \"\"\"Generates a single simulated data packet.\"\"\"\n",
        "    packet_type_name, details = random.choice(list(data_types.items()))\n",
        "    priority = details[\"priority\"]\n",
        "    description = details[\"description\"]\n",
        "\n",
        "    # Simulate data size (in KB)\n",
        "    if \"Emergency\" in packet_type_name:\n",
        "        data_size_kb = random.randint(10, 100)  # Emergency alerts are typically small\n",
        "    elif \"Science Data (Image)\" in packet_type_name:\n",
        "        data_size_kb = random.randint(500, 5000) # Images can be large\n",
        "    elif \"Science Data (Telemetry)\" in packet_type_name:\n",
        "        data_size_kb = random.randint(50, 500)\n",
        "    else:\n",
        "        data_size_kb = random.randint(1, 200)\n",
        "\n",
        "    # Simulate a timestamp\n",
        "    timestamp = start_time + timedelta(seconds=random.randint(0, 3600*24*7)) # Over a week for simulation\n",
        "\n",
        "    # Simulate content (simplified)\n",
        "    content = f\"Simulated {packet_type_name} data.\"\n",
        "    if \"Emergency\" in packet_type_name:\n",
        "        content += f\" Critical system failure detected at {timestamp}.\"\n",
        "    elif \"Science Data (Image)\" in packet_type_name:\n",
        "        # Simulate a small array for an image\n",
        "        image_data = np.random.randint(0, 256, size=(random.randint(10, 50), random.randint(10, 50))).tolist()\n",
        "        content = f\"Simulated Image Data: {image_data[:5]}...\" # Show a small part\n",
        "    elif \"System Log\" in packet_type_name:\n",
        "        log_entries = [f\"Log entry {i}: System status normal.\" for i in range(random.randint(5,20))]\n",
        "        content = \"\\n\".join(log_entries)\n",
        "\n",
        "\n",
        "    packet = {\n",
        "        \"timestamp\": timestamp,\n",
        "        \"type\": packet_type_name,\n",
        "        \"priority\": priority,\n",
        "        \"size_kb\": data_size_kb,\n",
        "        \"content_summary\": content[:100] + \"...\" if len(content) > 100 else content # Truncate for display\n",
        "    }\n",
        "    return packet\n",
        "\n",
        "# 4. Generate Multiple Data Packets\n",
        "def simulate_probe_data(num_packets=100, start_date_str=\"2025-07-01 00:00:00\"):\n",
        "    \"\"\"Simulates a series of data packets from a deep space probe.\"\"\"\n",
        "    simulated_data = []\n",
        "    start_time = datetime.strptime(start_date_str, \"%Y-%m-%d %H:%M:%S\")\n",
        "\n",
        "    print(f\"Generating {num_packets} data packets starting from {start_time}...\\n\")\n",
        "    for _ in range(num_packets):\n",
        "        packet = generate_data_packet(start_time)\n",
        "        simulated_data.append(packet)\n",
        "\n",
        "    # Sort packets by timestamp for a realistic flow\n",
        "    simulated_data.sort(key=lambda x: x[\"timestamp\"])\n",
        "\n",
        "    return pd.DataFrame(simulated_data)\n",
        "\n",
        "# 5. Run the Simulation\n",
        "if __name__ == \"__main__\":\n",
        "    # Simulate 50 data packets\n",
        "    probe_data_df = simulate_probe_data(num_packets=50)\n",
        "\n",
        "    print(\"--- Simulated Probe Data ---\")\n",
        "    print(probe_data_df.head(10)) # Display the first 10 packets\n",
        "\n",
        "    print(\"\\n--- Data Packet Type Distribution ---\")\n",
        "    print(probe_data_df['type'].value_counts())\n",
        "\n",
        "    print(\"\\n--- Priority Distribution ---\")\n",
        "    print(probe_data_df['priority'].value_counts().sort_index())\n",
        "\n",
        "    print(\"\\n--- Average Data Size by Type (KB) ---\")\n",
        "    print(probe_data_df.groupby('type')['size_kb'].mean().round(2))\n",
        "\n",
        "    print(\"\\n--- Example of a high-priority packet ---\")\n",
        "    high_priority_packets = probe_data_df[probe_data_df['priority'] == 1]\n",
        "    if not high_priority_packets.empty:\n",
        "        print(high_priority_packets.iloc[0])\n",
        "    else:\n",
        "        print(\"No high-priority packets generated in this simulation.\")"
      ]
    },
    {
      "cell_type": "markdown",
      "metadata": {
        "id": "a3cedcc0"
      },
      "source": [
        "## Visualize the data\n",
        "\n",
        "### Subtask:\n",
        "Plot a time series graph showing the number of packets of each type over time.\n"
      ]
    },
    {
      "cell_type": "markdown",
      "metadata": {
        "id": "164bba34"
      },
      "source": [
        "**Reasoning**:\n",
        "Plot a time series graph showing the number of packets of each type over time using the grouped data.\n",
        "\n"
      ]
    },
    {
      "cell_type": "code",
      "metadata": {
        "colab": {
          "base_uri": "https://localhost:8080/",
          "height": 570
        },
        "id": "c7c79e6f",
        "outputId": "e716a343-31b2-4aa5-b927-a25fac361ddc"
      },
      "source": [
        "import matplotlib.pyplot as plt\n",
        "\n",
        "packet_counts_over_time = emergency_alerts_time_series.groupby(['timestamp', 'type']).size().reset_index(name='count')\n",
        "\n",
        "plt.figure(figsize=(12, 6))\n",
        "for packet_type in packet_counts_over_time['type'].unique():\n",
        "    type_data = packet_counts_over_time[packet_counts_over_time['type'] == packet_type]\n",
        "    plt.plot(type_data['timestamp'], type_data['count'], marker='o', linestyle='-', label=packet_type)\n",
        "\n",
        "plt.xlabel(\"Timestamp\")\n",
        "plt.ylabel(\"Number of Packets\")\n",
        "plt.title(\"Emergency Alert Packet Count Over Time\")\n",
        "plt.legend()\n",
        "plt.grid(True)\n",
        "plt.tight_layout()\n",
        "plt.show()"
      ],
      "execution_count": 10,
      "outputs": [
        {
          "output_type": "display_data",
          "data": {
            "text/plain": [
              "<Figure size 1200x600 with 1 Axes>"
            ],
            "image/png": "[encoded data removed]"
          },
          "metadata": {}
        }
      ]
    },
    {
      "cell_type": "markdown",
      "metadata": {
        "id": "f875790a"
      },
      "source": [
        "## Summary:\n",
        "\n",
        "### Data Analysis Key Findings\n",
        "\n",
        "*   The time series plot shows the number of packets for each type over time, indicating the frequency of different emergency alert types.\n",
        "*   The plot visualizes fluctuations and trends in packet counts across different timestamps for each alert type.\n",
        "\n",
        "### Insights or Next Steps\n",
        "\n",
        "*   Analyze specific time periods with high packet counts to understand potential events or system behavior driving increased alerts.\n",
        "*   Investigate the distribution of packet types over time to identify dominant alert types and their temporal patterns.\n"
      ]
    }
  ]
}